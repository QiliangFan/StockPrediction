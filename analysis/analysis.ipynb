{
 "cells": [
  {
   "cell_type": "code",
   "execution_count": 1,
   "metadata": {},
   "outputs": [],
   "source": [
    "import matplotlib_inline \n",
    "import matplotlib as mpl\n",
    "import matplotlib.pyplot as plt\n",
    "matplotlib_inline.backend_inline.set_matplotlib_formats(\"svg\")\n",
    "\n",
    "plt.rcParams['font.family'] = ['sans-serif']\n",
    "plt.rcParams[\"font.sans-serif\"] = [\"SimHei\"]\n",
    "plt.rcParams[\"font.size\"] = 20"
   ]
  },
  {
   "cell_type": "markdown",
   "metadata": {},
   "source": [
    "# load the stock data"
   ]
  },
  {
   "cell_type": "code",
   "execution_count": 7,
   "metadata": {},
   "outputs": [
    {
     "name": "stdout",
     "output_type": "stream",
     "text": [
      "Data root: /home/fanqiliang/data/stock\n"
     ]
    }
   ],
   "source": [
    "\n",
    "import os\n",
    "import yaml\n",
    "import pandas as pd\n",
    "from glob import glob\n",
    "import numpy as np\n",
    "from halo import Halo\n",
    "\n",
    "header = [\n",
    "    \"对象id\",  # 0\n",
    "    \"交易日期\",  # 1  \n",
    "    \"WIND代码\",  # 2\n",
    "    \"公司名称\",  # 3\n",
    "    \"上市日期\",  # 4\n",
    "    \"退市日期\",  # 5\n",
    "    \"ST\",  # 6\n",
    "    \"中信一级行业指数代码\",  # 7\n",
    "    \"中信二级行业指数代码\",  # 8\n",
    "    \"中信三级行业指数代码\",  # 9\n",
    "    \"中信一级行业指数名称\",  # 10\n",
    "    \"中信二级行业指数名称\",  # 11\n",
    "    \"中信三级行业指数名称\",  # 12\n",
    "    \"进入中信指数日期\",  # 13\n",
    "    \"停牌\",  # 14\n",
    "    \"涨跌停标志\",  # 15\n",
    "    \"昨日收盘价\",  # 16\n",
    "    \"开盘价\",  # 17\n",
    "    \"收盘价\",  # 18\n",
    "    \"最低价\",  # 19\n",
    "    \"最高价\",  # 20\n",
    "    \"成交量\",  # 21\n",
    "    \"成交金额\",  # 22\n",
    "    \"复权因子\",  # 23\n",
    "    \"当日总股本\",  # 24\n",
    "    \"当日流通股本\", # 25\n",
    "    \"当日自由流通股本\"  # 26\n",
    "]\n",
    "project_path = os.path.dirname(os.path.abspath(os.curdir))\n",
    "config_file = os.path.join(project_path, \"config.yaml\")\n",
    "config = yaml.load(open(config_file, \"r\"), Loader=yaml.FullLoader)\n",
    "data_root = config[\"data\"][\"root\"]\n",
    "print(f\"Data root: {data_root}\")\n",
    "processed_data = os.path.join(data_root, \"2020A股.csv\")\n",
    "\n",
    "if not os.path.exists(processed_data):\n",
    "    with Halo(text=\"Preparing data...(may take about 3 miniutes ...)\", spinner=\"dots\", text_color=\"blue\", interval=1000):\n",
    "        data_file = glob(os.path.join(data_root, \"2020*.xlsx\"))[0]\n",
    "        dt = pd.read_excel(data_file)\n",
    "        dt.to_csv(processed_data, index=False)\n",
    "else:\n",
    "    data = pd.read_csv(processed_data)\n",
    "\n",
    "simplified_data = \"simplified.csv\"\n",
    "if not os.path.exists(simplified_data):\n",
    "    simplified_dt = data[[\"对象id\", \"WIND代码\", \"收盘价\", \"开盘价\", \"最高价\", \"最低价\", \"成交量\"]]\n",
    "    simplified_dt.to_csv(simplified_data, index=False)\n"
   ]
  },
  {
   "cell_type": "code",
   "execution_count": 11,
   "metadata": {},
   "outputs": [
    {
     "name": "stdout",
     "output_type": "stream",
     "text": [
      "公司的wind id已经保存到: company_wind_id.csv中...\n",
      "公司数量: 4154\n",
      "交易记录时长: 242天\n"
     ]
    }
   ],
   "source": [
    "num_company = data[\"WIND代码\"].unique().shape[0]\n",
    "comp_wind_id = pd.DataFrame(data[\"WIND代码\"].unique().tolist())\n",
    "comp_wind_id.to_csv(\"company_wind_id.csv\", index=False, header=False)\n",
    "print(\"公司的wind id已经保存到: company_wind_id.csv中...\")\n",
    "num_days = data[\"交易日期\"].unique().shape[0]\n",
    "date_list = data[\"交易日期\"].unique().tolist()\n",
    "\n",
    "print(f\"公司数量: {num_company}\")\n",
    "print(f\"交易记录时长: {num_days}天\")\n",
    "\n",
    "output_dir = os.path.join(data_root, \"split\")\n",
    "if not os.path.exists(output_dir):\n",
    "    os.makedirs(output_dir, exist_ok=True)\n",
    "    for c_id in data[\"WIND代码\"].unique().tolist():\n",
    "        output_file = os.path.join(output_dir, f\"{c_id}.csv\")\n",
    "        dt = simplified_dt[simplified_dt[\"WIND代码\"] == c_id]\n",
    "        dt.to_csv(output_file, index=False)"
   ]
  },
  {
   "cell_type": "code",
   "execution_count": 4,
   "metadata": {},
   "outputs": [
    {
     "name": "stderr",
     "output_type": "stream",
     "text": [
      "findfont: Font family ['sans-serif'] not found. Falling back to DejaVu Sans.\n",
      "findfont: Generic family 'sans-serif' not found because none of the following families were found: SimHei\n"
     ]
    },
    {
     "data": {
      "image/svg+xml": "<?xml version=\"1.0\" encoding=\"utf-8\" standalone=\"no\"?>\n<!DOCTYPE svg PUBLIC \"-//W3C//DTD SVG 1.1//EN\"\n  \"http://www.w3.org/Graphics/SVG/1.1/DTD/svg11.dtd\">\n<svg height=\"302.878125pt\" version=\"1.1\" viewBox=\"0 0 606.867188 302.878125\" width=\"606.867188pt\" xmlns=\"http://www.w3.org/2000/svg\" xmlns:xlink=\"http://www.w3.org/1999/xlink\">\n <metadata>\n  <rdf:RDF xmlns:cc=\"http://creativecommons.org/ns#\" xmlns:dc=\"http://purl.org/dc/elements/1.1/\" xmlns:rdf=\"http://www.w3.org/1999/02/22-rdf-syntax-ns#\">\n   <cc:Work>\n    <dc:type rdf:resource=\"http://purl.org/dc/dcmitype/StillImage\"/>\n    <dc:date>2021-12-15T14:50:48.859359</dc:date>\n    <dc:format>image/svg+xml</dc:format>\n    <dc:creator>\n     <cc:Agent>\n      <dc:title>Matplotlib v3.4.2, https://matplotlib.org/</dc:title>\n     </cc:Agent>\n    </dc:creator>\n   </cc:Work>\n  </rdf:RDF>\n </metadata>\n <defs>\n  <style type=\"text/css\">*{stroke-linecap:butt;stroke-linejoin:round;}</style>\n </defs>\n <g id=\"figure_1\">\n  <g id=\"patch_1\">\n   <path d=\"M 0 302.878125 \nL 606.867188 302.878125 \nL 606.867188 0 \nL 0 0 \nz\n\" style=\"fill:none;\"/>\n  </g>\n  <g id=\"axes_1\">\n   <g id=\"patch_2\">\n    <path d=\"M 41.667188 279 \nL 599.667187 279 \nL 599.667187 7.2 \nL 41.667188 7.2 \nz\n\" style=\"fill:#ffffff;\"/>\n   </g>\n   <g id=\"matplotlib.axis_1\">\n    <g id=\"xtick_1\">\n     <g id=\"line2d_1\">\n      <path clip-path=\"url(#p51d0e4d27d)\" d=\"M 67.030824 279 \nL 67.030824 7.2 \n\" style=\"fill:none;stroke:#b0b0b0;stroke-dasharray:5.12,1.28,0.8,1.28;stroke-dashoffset:0;stroke-width:0.8;\"/>\n     </g>\n     <g id=\"line2d_2\">\n      <defs>\n       <path d=\"M 0 0 \nL 0 3.5 \n\" id=\"mb081d9f821\" style=\"stroke:#000000;stroke-width:0.8;\"/>\n      </defs>\n      <g>\n       <use style=\"stroke:#000000;stroke-width:0.8;\" x=\"67.030824\" xlink:href=\"#mb081d9f821\" y=\"279\"/>\n      </g>\n     </g>\n     <g id=\"text_1\">\n      <!-- 0 -->\n      <g transform=\"translate(63.849574 293.598437)scale(0.1 -0.1)\">\n       <defs>\n        <path d=\"M 2034 4250 \nQ 1547 4250 1301 3770 \nQ 1056 3291 1056 2328 \nQ 1056 1369 1301 889 \nQ 1547 409 2034 409 \nQ 2525 409 2770 889 \nQ 3016 1369 3016 2328 \nQ 3016 3291 2770 3770 \nQ 2525 4250 2034 4250 \nz\nM 2034 4750 \nQ 2819 4750 3233 4129 \nQ 3647 3509 3647 2328 \nQ 3647 1150 3233 529 \nQ 2819 -91 2034 -91 \nQ 1250 -91 836 529 \nQ 422 1150 422 2328 \nQ 422 3509 836 4129 \nQ 1250 4750 2034 4750 \nz\n\" id=\"DejaVuSans-30\" transform=\"scale(0.015625)\"/>\n       </defs>\n       <use xlink:href=\"#DejaVuSans-30\"/>\n      </g>\n     </g>\n    </g>\n    <g id=\"xtick_2\">\n     <g id=\"line2d_3\">\n      <path clip-path=\"url(#p51d0e4d27d)\" d=\"M 174.52037 279 \nL 174.52037 7.2 \n\" style=\"fill:none;stroke:#b0b0b0;stroke-dasharray:5.12,1.28,0.8,1.28;stroke-dashoffset:0;stroke-width:0.8;\"/>\n     </g>\n     <g id=\"line2d_4\">\n      <g>\n       <use style=\"stroke:#000000;stroke-width:0.8;\" x=\"174.52037\" xlink:href=\"#mb081d9f821\" y=\"279\"/>\n      </g>\n     </g>\n     <g id=\"text_2\">\n      <!-- 200000 -->\n      <g transform=\"translate(155.43287 293.598437)scale(0.1 -0.1)\">\n       <defs>\n        <path d=\"M 1228 531 \nL 3431 531 \nL 3431 0 \nL 469 0 \nL 469 531 \nQ 828 903 1448 1529 \nQ 2069 2156 2228 2338 \nQ 2531 2678 2651 2914 \nQ 2772 3150 2772 3378 \nQ 2772 3750 2511 3984 \nQ 2250 4219 1831 4219 \nQ 1534 4219 1204 4116 \nQ 875 4013 500 3803 \nL 500 4441 \nQ 881 4594 1212 4672 \nQ 1544 4750 1819 4750 \nQ 2544 4750 2975 4387 \nQ 3406 4025 3406 3419 \nQ 3406 3131 3298 2873 \nQ 3191 2616 2906 2266 \nQ 2828 2175 2409 1742 \nQ 1991 1309 1228 531 \nz\n\" id=\"DejaVuSans-32\" transform=\"scale(0.015625)\"/>\n       </defs>\n       <use xlink:href=\"#DejaVuSans-32\"/>\n       <use x=\"63.623047\" xlink:href=\"#DejaVuSans-30\"/>\n       <use x=\"127.246094\" xlink:href=\"#DejaVuSans-30\"/>\n       <use x=\"190.869141\" xlink:href=\"#DejaVuSans-30\"/>\n       <use x=\"254.492188\" xlink:href=\"#DejaVuSans-30\"/>\n       <use x=\"318.115234\" xlink:href=\"#DejaVuSans-30\"/>\n      </g>\n     </g>\n    </g>\n    <g id=\"xtick_3\">\n     <g id=\"line2d_5\">\n      <path clip-path=\"url(#p51d0e4d27d)\" d=\"M 282.009916 279 \nL 282.009916 7.2 \n\" style=\"fill:none;stroke:#b0b0b0;stroke-dasharray:5.12,1.28,0.8,1.28;stroke-dashoffset:0;stroke-width:0.8;\"/>\n     </g>\n     <g id=\"line2d_6\">\n      <g>\n       <use style=\"stroke:#000000;stroke-width:0.8;\" x=\"282.009916\" xlink:href=\"#mb081d9f821\" y=\"279\"/>\n      </g>\n     </g>\n     <g id=\"text_3\">\n      <!-- 400000 -->\n      <g transform=\"translate(262.922416 293.598437)scale(0.1 -0.1)\">\n       <defs>\n        <path d=\"M 2419 4116 \nL 825 1625 \nL 2419 1625 \nL 2419 4116 \nz\nM 2253 4666 \nL 3047 4666 \nL 3047 1625 \nL 3713 1625 \nL 3713 1100 \nL 3047 1100 \nL 3047 0 \nL 2419 0 \nL 2419 1100 \nL 313 1100 \nL 313 1709 \nL 2253 4666 \nz\n\" id=\"DejaVuSans-34\" transform=\"scale(0.015625)\"/>\n       </defs>\n       <use xlink:href=\"#DejaVuSans-34\"/>\n       <use x=\"63.623047\" xlink:href=\"#DejaVuSans-30\"/>\n       <use x=\"127.246094\" xlink:href=\"#DejaVuSans-30\"/>\n       <use x=\"190.869141\" xlink:href=\"#DejaVuSans-30\"/>\n       <use x=\"254.492188\" xlink:href=\"#DejaVuSans-30\"/>\n       <use x=\"318.115234\" xlink:href=\"#DejaVuSans-30\"/>\n      </g>\n     </g>\n    </g>\n    <g id=\"xtick_4\">\n     <g id=\"line2d_7\">\n      <path clip-path=\"url(#p51d0e4d27d)\" d=\"M 389.499462 279 \nL 389.499462 7.2 \n\" style=\"fill:none;stroke:#b0b0b0;stroke-dasharray:5.12,1.28,0.8,1.28;stroke-dashoffset:0;stroke-width:0.8;\"/>\n     </g>\n     <g id=\"line2d_8\">\n      <g>\n       <use style=\"stroke:#000000;stroke-width:0.8;\" x=\"389.499462\" xlink:href=\"#mb081d9f821\" y=\"279\"/>\n      </g>\n     </g>\n     <g id=\"text_4\">\n      <!-- 600000 -->\n      <g transform=\"translate(370.411962 293.598437)scale(0.1 -0.1)\">\n       <defs>\n        <path d=\"M 2113 2584 \nQ 1688 2584 1439 2293 \nQ 1191 2003 1191 1497 \nQ 1191 994 1439 701 \nQ 1688 409 2113 409 \nQ 2538 409 2786 701 \nQ 3034 994 3034 1497 \nQ 3034 2003 2786 2293 \nQ 2538 2584 2113 2584 \nz\nM 3366 4563 \nL 3366 3988 \nQ 3128 4100 2886 4159 \nQ 2644 4219 2406 4219 \nQ 1781 4219 1451 3797 \nQ 1122 3375 1075 2522 \nQ 1259 2794 1537 2939 \nQ 1816 3084 2150 3084 \nQ 2853 3084 3261 2657 \nQ 3669 2231 3669 1497 \nQ 3669 778 3244 343 \nQ 2819 -91 2113 -91 \nQ 1303 -91 875 529 \nQ 447 1150 447 2328 \nQ 447 3434 972 4092 \nQ 1497 4750 2381 4750 \nQ 2619 4750 2861 4703 \nQ 3103 4656 3366 4563 \nz\n\" id=\"DejaVuSans-36\" transform=\"scale(0.015625)\"/>\n       </defs>\n       <use xlink:href=\"#DejaVuSans-36\"/>\n       <use x=\"63.623047\" xlink:href=\"#DejaVuSans-30\"/>\n       <use x=\"127.246094\" xlink:href=\"#DejaVuSans-30\"/>\n       <use x=\"190.869141\" xlink:href=\"#DejaVuSans-30\"/>\n       <use x=\"254.492188\" xlink:href=\"#DejaVuSans-30\"/>\n       <use x=\"318.115234\" xlink:href=\"#DejaVuSans-30\"/>\n      </g>\n     </g>\n    </g>\n    <g id=\"xtick_5\">\n     <g id=\"line2d_9\">\n      <path clip-path=\"url(#p51d0e4d27d)\" d=\"M 496.989008 279 \nL 496.989008 7.2 \n\" style=\"fill:none;stroke:#b0b0b0;stroke-dasharray:5.12,1.28,0.8,1.28;stroke-dashoffset:0;stroke-width:0.8;\"/>\n     </g>\n     <g id=\"line2d_10\">\n      <g>\n       <use style=\"stroke:#000000;stroke-width:0.8;\" x=\"496.989008\" xlink:href=\"#mb081d9f821\" y=\"279\"/>\n      </g>\n     </g>\n     <g id=\"text_5\">\n      <!-- 800000 -->\n      <g transform=\"translate(477.901508 293.598437)scale(0.1 -0.1)\">\n       <defs>\n        <path d=\"M 2034 2216 \nQ 1584 2216 1326 1975 \nQ 1069 1734 1069 1313 \nQ 1069 891 1326 650 \nQ 1584 409 2034 409 \nQ 2484 409 2743 651 \nQ 3003 894 3003 1313 \nQ 3003 1734 2745 1975 \nQ 2488 2216 2034 2216 \nz\nM 1403 2484 \nQ 997 2584 770 2862 \nQ 544 3141 544 3541 \nQ 544 4100 942 4425 \nQ 1341 4750 2034 4750 \nQ 2731 4750 3128 4425 \nQ 3525 4100 3525 3541 \nQ 3525 3141 3298 2862 \nQ 3072 2584 2669 2484 \nQ 3125 2378 3379 2068 \nQ 3634 1759 3634 1313 \nQ 3634 634 3220 271 \nQ 2806 -91 2034 -91 \nQ 1263 -91 848 271 \nQ 434 634 434 1313 \nQ 434 1759 690 2068 \nQ 947 2378 1403 2484 \nz\nM 1172 3481 \nQ 1172 3119 1398 2916 \nQ 1625 2713 2034 2713 \nQ 2441 2713 2670 2916 \nQ 2900 3119 2900 3481 \nQ 2900 3844 2670 4047 \nQ 2441 4250 2034 4250 \nQ 1625 4250 1398 4047 \nQ 1172 3844 1172 3481 \nz\n\" id=\"DejaVuSans-38\" transform=\"scale(0.015625)\"/>\n       </defs>\n       <use xlink:href=\"#DejaVuSans-38\"/>\n       <use x=\"63.623047\" xlink:href=\"#DejaVuSans-30\"/>\n       <use x=\"127.246094\" xlink:href=\"#DejaVuSans-30\"/>\n       <use x=\"190.869141\" xlink:href=\"#DejaVuSans-30\"/>\n       <use x=\"254.492188\" xlink:href=\"#DejaVuSans-30\"/>\n       <use x=\"318.115234\" xlink:href=\"#DejaVuSans-30\"/>\n      </g>\n     </g>\n    </g>\n   </g>\n   <g id=\"matplotlib.axis_2\">\n    <g id=\"ytick_1\">\n     <g id=\"line2d_11\">\n      <path clip-path=\"url(#p51d0e4d27d)\" d=\"M 41.667188 266.645455 \nL 599.667187 266.645455 \n\" style=\"fill:none;stroke:#b0b0b0;stroke-dasharray:5.12,1.28,0.8,1.28;stroke-dashoffset:0;stroke-width:0.8;\"/>\n     </g>\n     <g id=\"line2d_12\">\n      <defs>\n       <path d=\"M 0 0 \nL -3.5 0 \n\" id=\"mc0681e0cd3\" style=\"stroke:#000000;stroke-width:0.8;\"/>\n      </defs>\n      <g>\n       <use style=\"stroke:#000000;stroke-width:0.8;\" x=\"41.667188\" xlink:href=\"#mc0681e0cd3\" y=\"266.645455\"/>\n      </g>\n     </g>\n     <g id=\"text_6\">\n      <!-- −100 -->\n      <g transform=\"translate(7.2 270.444673)scale(0.1 -0.1)\">\n       <defs>\n        <path d=\"M 678 2272 \nL 4684 2272 \nL 4684 1741 \nL 678 1741 \nL 678 2272 \nz\n\" id=\"DejaVuSans-2212\" transform=\"scale(0.015625)\"/>\n        <path d=\"M 794 531 \nL 1825 531 \nL 1825 4091 \nL 703 3866 \nL 703 4441 \nL 1819 4666 \nL 2450 4666 \nL 2450 531 \nL 3481 531 \nL 3481 0 \nL 794 0 \nL 794 531 \nz\n\" id=\"DejaVuSans-31\" transform=\"scale(0.015625)\"/>\n       </defs>\n       <use xlink:href=\"#DejaVuSans-2212\"/>\n       <use x=\"83.789062\" xlink:href=\"#DejaVuSans-31\"/>\n       <use x=\"147.412109\" xlink:href=\"#DejaVuSans-30\"/>\n       <use x=\"211.035156\" xlink:href=\"#DejaVuSans-30\"/>\n      </g>\n     </g>\n    </g>\n    <g id=\"ytick_2\">\n     <g id=\"line2d_13\">\n      <path clip-path=\"url(#p51d0e4d27d)\" d=\"M 41.667188 225.480788 \nL 599.667187 225.480788 \n\" style=\"fill:none;stroke:#b0b0b0;stroke-dasharray:5.12,1.28,0.8,1.28;stroke-dashoffset:0;stroke-width:0.8;\"/>\n     </g>\n     <g id=\"line2d_14\">\n      <g>\n       <use style=\"stroke:#000000;stroke-width:0.8;\" x=\"41.667188\" xlink:href=\"#mc0681e0cd3\" y=\"225.480788\"/>\n      </g>\n     </g>\n     <g id=\"text_7\">\n      <!-- −80 -->\n      <g transform=\"translate(13.5625 229.280007)scale(0.1 -0.1)\">\n       <use xlink:href=\"#DejaVuSans-2212\"/>\n       <use x=\"83.789062\" xlink:href=\"#DejaVuSans-38\"/>\n       <use x=\"147.412109\" xlink:href=\"#DejaVuSans-30\"/>\n      </g>\n     </g>\n    </g>\n    <g id=\"ytick_3\">\n     <g id=\"line2d_15\">\n      <path clip-path=\"url(#p51d0e4d27d)\" d=\"M 41.667188 184.316122 \nL 599.667187 184.316122 \n\" style=\"fill:none;stroke:#b0b0b0;stroke-dasharray:5.12,1.28,0.8,1.28;stroke-dashoffset:0;stroke-width:0.8;\"/>\n     </g>\n     <g id=\"line2d_16\">\n      <g>\n       <use style=\"stroke:#000000;stroke-width:0.8;\" x=\"41.667188\" xlink:href=\"#mc0681e0cd3\" y=\"184.316122\"/>\n      </g>\n     </g>\n     <g id=\"text_8\">\n      <!-- −60 -->\n      <g transform=\"translate(13.5625 188.115341)scale(0.1 -0.1)\">\n       <use xlink:href=\"#DejaVuSans-2212\"/>\n       <use x=\"83.789062\" xlink:href=\"#DejaVuSans-36\"/>\n       <use x=\"147.412109\" xlink:href=\"#DejaVuSans-30\"/>\n      </g>\n     </g>\n    </g>\n    <g id=\"ytick_4\">\n     <g id=\"line2d_17\">\n      <path clip-path=\"url(#p51d0e4d27d)\" d=\"M 41.667188 143.151456 \nL 599.667187 143.151456 \n\" style=\"fill:none;stroke:#b0b0b0;stroke-dasharray:5.12,1.28,0.8,1.28;stroke-dashoffset:0;stroke-width:0.8;\"/>\n     </g>\n     <g id=\"line2d_18\">\n      <g>\n       <use style=\"stroke:#000000;stroke-width:0.8;\" x=\"41.667188\" xlink:href=\"#mc0681e0cd3\" y=\"143.151456\"/>\n      </g>\n     </g>\n     <g id=\"text_9\">\n      <!-- −40 -->\n      <g transform=\"translate(13.5625 146.950675)scale(0.1 -0.1)\">\n       <use xlink:href=\"#DejaVuSans-2212\"/>\n       <use x=\"83.789062\" xlink:href=\"#DejaVuSans-34\"/>\n       <use x=\"147.412109\" xlink:href=\"#DejaVuSans-30\"/>\n      </g>\n     </g>\n    </g>\n    <g id=\"ytick_5\">\n     <g id=\"line2d_19\">\n      <path clip-path=\"url(#p51d0e4d27d)\" d=\"M 41.667188 101.98679 \nL 599.667187 101.98679 \n\" style=\"fill:none;stroke:#b0b0b0;stroke-dasharray:5.12,1.28,0.8,1.28;stroke-dashoffset:0;stroke-width:0.8;\"/>\n     </g>\n     <g id=\"line2d_20\">\n      <g>\n       <use style=\"stroke:#000000;stroke-width:0.8;\" x=\"41.667188\" xlink:href=\"#mc0681e0cd3\" y=\"101.98679\"/>\n      </g>\n     </g>\n     <g id=\"text_10\">\n      <!-- −20 -->\n      <g transform=\"translate(13.5625 105.786008)scale(0.1 -0.1)\">\n       <use xlink:href=\"#DejaVuSans-2212\"/>\n       <use x=\"83.789062\" xlink:href=\"#DejaVuSans-32\"/>\n       <use x=\"147.412109\" xlink:href=\"#DejaVuSans-30\"/>\n      </g>\n     </g>\n    </g>\n    <g id=\"ytick_6\">\n     <g id=\"line2d_21\">\n      <path clip-path=\"url(#p51d0e4d27d)\" d=\"M 41.667188 60.822123 \nL 599.667187 60.822123 \n\" style=\"fill:none;stroke:#b0b0b0;stroke-dasharray:5.12,1.28,0.8,1.28;stroke-dashoffset:0;stroke-width:0.8;\"/>\n     </g>\n     <g id=\"line2d_22\">\n      <g>\n       <use style=\"stroke:#000000;stroke-width:0.8;\" x=\"41.667188\" xlink:href=\"#mc0681e0cd3\" y=\"60.822123\"/>\n      </g>\n     </g>\n     <g id=\"text_11\">\n      <!-- 0 -->\n      <g transform=\"translate(28.304688 64.621342)scale(0.1 -0.1)\">\n       <use xlink:href=\"#DejaVuSans-30\"/>\n      </g>\n     </g>\n    </g>\n    <g id=\"ytick_7\">\n     <g id=\"line2d_23\">\n      <path clip-path=\"url(#p51d0e4d27d)\" d=\"M 41.667188 19.657457 \nL 599.667187 19.657457 \n\" style=\"fill:none;stroke:#b0b0b0;stroke-dasharray:5.12,1.28,0.8,1.28;stroke-dashoffset:0;stroke-width:0.8;\"/>\n     </g>\n     <g id=\"line2d_24\">\n      <g>\n       <use style=\"stroke:#000000;stroke-width:0.8;\" x=\"41.667188\" xlink:href=\"#mc0681e0cd3\" y=\"19.657457\"/>\n      </g>\n     </g>\n     <g id=\"text_12\">\n      <!-- 20 -->\n      <g transform=\"translate(21.942188 23.456676)scale(0.1 -0.1)\">\n       <use xlink:href=\"#DejaVuSans-32\"/>\n       <use x=\"63.623047\" xlink:href=\"#DejaVuSans-30\"/>\n      </g>\n     </g>\n    </g>\n   </g>\n   <g id=\"line2d_25\">\n    <path clip-path=\"url(#p51d0e4d27d)\" d=\"M 67.030824 26.099727 \nL 69.052702 25.461675 \nL 71.074581 25.688081 \nL 73.098071 25.523422 \nL 75.121025 26.531956 \nL 77.143978 26.264386 \nL 79.167469 26.470209 \nL 81.190959 25.852739 \nL 87.265731 27.211173 \nL 91.318624 26.964185 \nL 93.345877 27.89039 \nL 95.373667 27.705149 \nL 97.401995 28.837178 \nL 99.431935 32.027439 \nL 101.461875 30.771917 \nL 103.492353 30.71017 \nL 105.523368 30.422017 \nL 109.58701 30.97774 \nL 111.619637 30.380853 \nL 113.65334 30.422017 \nL 115.688117 30.669005 \nL 119.759821 29.187077 \nL 121.79621 29.536977 \nL 123.833674 29.454648 \nL 125.871139 28.734266 \nL 127.908603 28.754848 \nL 129.94768 29.47523 \nL 131.987294 29.866294 \nL 134.026908 29.969206 \nL 136.067597 29.722218 \nL 138.108824 30.97774 \nL 140.15005 30.380853 \nL 144.233578 30.586676 \nL 146.275342 29.145913 \nL 148.317106 29.886877 \nL 150.359407 31.080652 \nL 152.401709 30.4426 \nL 154.444547 30.586676 \nL 156.487386 30.607258 \nL 158.5313 30.936576 \nL 160.575751 32.521415 \nL 162.620202 33.221215 \nL 164.665191 34.661978 \nL 166.710179 35.64993 \nL 168.755706 35.053042 \nL 170.801769 35.814589 \nL 172.84837 34.867801 \nL 174.894971 34.332661 \nL 176.941572 33.941596 \nL 178.98871 33.756355 \nL 181.036924 34.188584 \nL 183.085137 34.476737 \nL 187.181564 34.126837 \nL 189.229777 34.867801 \nL 191.278528 34.312078 \nL 193.327816 34.517902 \nL 195.377641 34.600231 \nL 197.428542 34.497319 \nL 199.47998 34.908966 \nL 201.531418 34.353243 \nL 203.582856 34.332661 \nL 205.635369 34.723725 \nL 207.688419 34.291496 \nL 209.742544 34.085673 \nL 211.797207 33.138885 \nL 213.852945 33.591697 \nL 217.966569 33.571114 \nL 220.023919 33.035974 \nL 222.081807 32.994809 \nL 224.140769 31.965692 \nL 226.201344 32.150933 \nL 228.262456 32.480251 \nL 230.324105 32.644909 \nL 232.38683 32.109769 \nL 234.450091 32.006857 \nL 238.578227 32.768403 \nL 240.642564 33.44762 \nL 244.771238 33.653444 \nL 248.903673 33.015391 \nL 250.970697 33.241797 \nL 253.038259 34.229749 \nL 261.314954 33.921014 \nL 263.38574 34.06509 \nL 265.455451 33.406456 \nL 267.5257 32.933062 \nL 271.667809 32.891897 \nL 277.885542 32.686074 \nL 279.96009 33.056556 \nL 282.035713 33.900432 \nL 284.111337 34.085673 \nL 286.187497 34.435572 \nL 288.263658 34.291496 \nL 294.496439 34.476737 \nL 296.575824 34.806054 \nL 298.65521 34.888384 \nL 300.736207 34.476737 \nL 304.899277 34.476737 \nL 309.066647 33.18005 \nL 311.150869 31.492299 \nL 313.236166 28.549025 \nL 315.321464 28.960672 \nL 317.407298 28.384366 \nL 319.494745 28.85776 \nL 321.583267 30.236776 \nL 323.673401 30.175029 \nL 325.76461 30.607258 \nL 327.856357 31.451134 \nL 329.948641 266.645455 \nL 332.042537 31.718704 \nL 334.138046 30.504347 \nL 336.23463 30.998323 \nL 338.331213 31.162981 \nL 340.432096 31.986275 \nL 342.533517 33.035974 \nL 344.635475 33.571114 \nL 346.738508 33.365291 \nL 348.842079 32.953644 \nL 350.946186 33.303544 \nL 353.051369 33.365291 \nL 355.159239 32.850733 \nL 357.267647 31.924528 \nL 359.376592 32.500833 \nL 361.486611 32.21268 \nL 363.597706 32.624327 \nL 365.709876 32.109769 \nL 367.82312 31.739287 \nL 369.936902 31.224728 \nL 372.052296 31.636375 \nL 374.168228 31.039487 \nL 376.283622 29.557559 \nL 380.521935 29.7428 \nL 382.643241 30.792499 \nL 384.765622 31.080652 \nL 386.889078 31.06007 \nL 389.022208 30.771917 \nL 391.155338 31.245311 \nL 393.289006 31.06007 \nL 395.422136 29.681053 \nL 397.557953 29.783965 \nL 399.694308 29.660471 \nL 401.832812 29.289989 \nL 403.972929 30.154447 \nL 406.115196 30.030953 \nL 408.258 30.072118 \nL 410.401342 29.063583 \nL 412.545758 29.516395 \nL 414.690712 29.248824 \nL 416.837816 29.928041 \nL 418.986532 29.331154 \nL 423.285576 29.043001 \nL 425.437517 28.775431 \nL 427.591607 27.746314 \nL 429.746773 28.178543 \nL 431.904625 28.775431 \nL 434.064628 28.651937 \nL 436.225705 29.701636 \nL 440.554309 29.310571 \nL 442.723448 30.36027 \nL 444.893662 29.598724 \nL 447.065488 29.578142 \nL 449.237315 28.096214 \nL 451.409678 27.766896 \nL 453.582579 27.828643 \nL 457.929457 25.626334 \nL 460.105045 24.844205 \nL 462.281708 24.720711 \nL 464.458909 23.959165 \nL 466.637185 24.679546 \nL 468.816535 23.506353 \nL 470.996423 24.391394 \nL 473.177924 24.2679 \nL 475.359961 24.53547 \nL 477.542537 24.247317 \nL 479.726724 24.288482 \nL 481.911987 24.53547 \nL 486.283587 23.115289 \nL 488.469387 24.391394 \nL 490.656799 24.514888 \nL 492.844748 24.103241 \nL 495.033236 23.547518 \nL 497.221723 24.164988 \nL 499.411285 24.473723 \nL 501.601922 25.461675 \nL 503.792559 25.070611 \nL 505.983196 24.123823 \nL 508.17437 22.827136 \nL 510.367157 22.024425 \nL 512.559944 22.003843 \nL 514.75273 20.439586 \nL 519.140991 21.592196 \nL 521.335928 20.686574 \nL 523.531402 20.274927 \nL 525.727413 20.192598 \nL 527.923424 19.554545 \nL 530.119973 20.419003 \nL 532.318672 20.604244 \nL 534.518445 21.09822 \nL 536.719294 21.900931 \nL 538.922292 22.312578 \nL 541.126365 22.312578 \nL 543.330438 22.436072 \nL 545.535049 22.703642 \nL 547.741272 21.962678 \nL 549.948032 22.250831 \nL 552.156405 21.695108 \nL 554.365853 21.818602 \nL 556.574763 23.03296 \nL 558.785285 23.197618 \nL 560.996883 23.979747 \nL 563.21063 23.773924 \nL 565.425452 23.238783 \nL 567.642424 23.691594 \nL 569.861546 22.024425 \nL 572.08228 21.365791 \nL 574.303551 21.304044 \nL 574.303551 21.304044 \n\" style=\"fill:none;stroke:#000000;stroke-dasharray:5.55,2.4;stroke-dashoffset:0;stroke-width:1.5;\"/>\n   </g>\n   <g id=\"patch_3\">\n    <path d=\"M 41.667188 279 \nL 41.667188 7.2 \n\" style=\"fill:none;stroke:#000000;stroke-linecap:square;stroke-linejoin:miter;stroke-width:0.8;\"/>\n   </g>\n   <g id=\"patch_4\">\n    <path d=\"M 599.667187 279 \nL 599.667187 7.2 \n\" style=\"fill:none;stroke:#000000;stroke-linecap:square;stroke-linejoin:miter;stroke-width:0.8;\"/>\n   </g>\n   <g id=\"patch_5\">\n    <path d=\"M 41.667188 279 \nL 599.667188 279 \n\" style=\"fill:none;stroke:#000000;stroke-linecap:square;stroke-linejoin:miter;stroke-width:0.8;\"/>\n   </g>\n   <g id=\"patch_6\">\n    <path d=\"M 41.667188 7.2 \nL 599.667188 7.2 \n\" style=\"fill:none;stroke:#000000;stroke-linecap:square;stroke-linejoin:miter;stroke-width:0.8;\"/>\n   </g>\n  </g>\n </g>\n <defs>\n  <clipPath id=\"p51d0e4d27d\">\n   <rect height=\"271.8\" width=\"558\" x=\"41.667188\" y=\"7.2\"/>\n  </clipPath>\n </defs>\n</svg>\n",
      "text/plain": [
       "<Figure size 720x360 with 1 Axes>"
      ]
     },
     "metadata": {
      "needs_background": "light"
     },
     "output_type": "display_data"
    },
    {
     "name": "stdout",
     "output_type": "stream",
     "text": [
      "该图为某公司的股价趋势, 可以看到已经经过复权了\n"
     ]
    }
   ],
   "source": [
    "%matplotlib inline\n",
    "\n",
    "for name, comp in data.groupby(\"WIND代码\"):\n",
    "    values = comp[\"收盘价\"]\n",
    "    plt.figure(figsize=(10, 5))\n",
    "    plt.grid(True, linestyle=\"-.\")\n",
    "    plt.plot(values,  color=\"black\", linestyle=\"--\")\n",
    "    # plt.savefig(\"test.png\")\n",
    "    plt.show()\n",
    "    plt.close()\n",
    "    break\n",
    "\n",
    "print(\"该图为某公司的股价趋势, 可以看到已经经过复权了\")"
   ]
  },
  {
   "cell_type": "markdown",
   "metadata": {},
   "source": [
    "# Download assitance data"
   ]
  },
  {
   "cell_type": "code",
   "execution_count": 5,
   "metadata": {},
   "outputs": [
    {
     "name": "stdout",
     "output_type": "stream",
     "text": [
      "login success!\n"
     ]
    }
   ],
   "source": [
    "import baostock as bs\n",
    "company_id = pd.read_csv(\"company_wind_id.csv\", header=None).values.squeeze().tolist()\n",
    "from tqdm.notebook import tqdm\n",
    "\n",
    "lg = bs.login()"
   ]
  },
  {
   "cell_type": "code",
   "execution_count": 11,
   "metadata": {},
   "outputs": [
    {
     "data": {
      "application/vnd.jupyter.widget-view+json": {
       "model_id": "e0b70d4a3ee84becb50e95f6b3c1d238",
       "version_major": 2,
       "version_minor": 0
      },
      "text/plain": [
       "  0%|          | 0/4154 [00:00<?, ?it/s]"
      ]
     },
     "metadata": {},
     "output_type": "display_data"
    },
    {
     "name": "stdout",
     "output_type": "stream",
     "text": [
      "000662.SZ 4\n",
      "000693.SZ 1\n",
      "000693.SZ 2\n",
      "000693.SZ 3\n",
      "000693.SZ 4\n",
      "002220.SZ 2\n",
      "002220.SZ 3\n",
      "002220.SZ 4\n"
     ]
    },
    {
     "ename": "KeyboardInterrupt",
     "evalue": "",
     "output_type": "error",
     "traceback": [
      "\u001b[0;31m---------------------------------------------------------------------------\u001b[0m",
      "\u001b[0;31mKeyboardInterrupt\u001b[0m                         Traceback (most recent call last)",
      "\u001b[0;32m/tmp/ipykernel_40561/3516874865.py\u001b[0m in \u001b[0;36m<module>\u001b[0;34m\u001b[0m\n\u001b[1;32m     16\u001b[0m     \u001b[0;32mfor\u001b[0m \u001b[0mcomp_id\u001b[0m \u001b[0;32min\u001b[0m \u001b[0mtqdm\u001b[0m\u001b[0;34m(\u001b[0m\u001b[0mcompany_id\u001b[0m\u001b[0;34m)\u001b[0m\u001b[0;34m:\u001b[0m\u001b[0;34m\u001b[0m\u001b[0;34m\u001b[0m\u001b[0m\n\u001b[1;32m     17\u001b[0m         \u001b[0;32mfor\u001b[0m \u001b[0mquarter\u001b[0m \u001b[0;32min\u001b[0m \u001b[0mrange\u001b[0m\u001b[0;34m(\u001b[0m\u001b[0;36m1\u001b[0m\u001b[0;34m,\u001b[0m \u001b[0;36m5\u001b[0m\u001b[0;34m)\u001b[0m\u001b[0;34m:\u001b[0m\u001b[0;34m\u001b[0m\u001b[0;34m\u001b[0m\u001b[0m\n\u001b[0;32m---> 18\u001b[0;31m             \u001b[0mres\u001b[0m \u001b[0;34m=\u001b[0m \u001b[0mbs\u001b[0m\u001b[0;34m.\u001b[0m\u001b[0mquery_cash_flow_data\u001b[0m\u001b[0;34m(\u001b[0m\u001b[0mcode\u001b[0m\u001b[0;34m=\u001b[0m\u001b[0;34mf\"{comp_id}\"\u001b[0m\u001b[0;34m,\u001b[0m \u001b[0myear\u001b[0m\u001b[0;34m=\u001b[0m\u001b[0;36m2020\u001b[0m\u001b[0;34m,\u001b[0m \u001b[0mquarter\u001b[0m\u001b[0;34m=\u001b[0m\u001b[0mquarter\u001b[0m\u001b[0;34m)\u001b[0m\u001b[0;34m.\u001b[0m\u001b[0mget_row_data\u001b[0m\u001b[0;34m(\u001b[0m\u001b[0;34m)\u001b[0m\u001b[0;34m\u001b[0m\u001b[0;34m\u001b[0m\u001b[0m\n\u001b[0m\u001b[1;32m     19\u001b[0m             \u001b[0;32mif\u001b[0m \u001b[0mlen\u001b[0m\u001b[0;34m(\u001b[0m\u001b[0mres\u001b[0m\u001b[0;34m)\u001b[0m \u001b[0;34m>\u001b[0m \u001b[0;36m0\u001b[0m\u001b[0;34m:\u001b[0m\u001b[0;34m\u001b[0m\u001b[0;34m\u001b[0m\u001b[0m\n\u001b[1;32m     20\u001b[0m                 cash_flow_2020 = cash_flow_2020.append({\n",
      "\u001b[0;32m~/anaconda3/envs/ml/lib/python3.8/site-packages/baostock/evaluation/season_index.py\u001b[0m in \u001b[0;36mquery_cash_flow_data\u001b[0;34m(code, year, quarter)\u001b[0m\n\u001b[1;32m    672\u001b[0m     \u001b[0mhead_body\u001b[0m \u001b[0;34m=\u001b[0m \u001b[0mmsg_header\u001b[0m \u001b[0;34m+\u001b[0m \u001b[0mmsg_body\u001b[0m\u001b[0;34m\u001b[0m\u001b[0;34m\u001b[0m\u001b[0m\n\u001b[1;32m    673\u001b[0m     \u001b[0mcrc32str\u001b[0m \u001b[0;34m=\u001b[0m \u001b[0mzlib\u001b[0m\u001b[0;34m.\u001b[0m\u001b[0mcrc32\u001b[0m\u001b[0;34m(\u001b[0m\u001b[0mbytes\u001b[0m\u001b[0;34m(\u001b[0m\u001b[0mhead_body\u001b[0m\u001b[0;34m,\u001b[0m \u001b[0mencoding\u001b[0m\u001b[0;34m=\u001b[0m\u001b[0;34m'utf-8'\u001b[0m\u001b[0;34m)\u001b[0m\u001b[0;34m)\u001b[0m\u001b[0;34m\u001b[0m\u001b[0;34m\u001b[0m\u001b[0m\n\u001b[0;32m--> 674\u001b[0;31m     \u001b[0mreceive_data\u001b[0m \u001b[0;34m=\u001b[0m \u001b[0msock\u001b[0m\u001b[0;34m.\u001b[0m\u001b[0msend_msg\u001b[0m\u001b[0;34m(\u001b[0m\u001b[0mhead_body\u001b[0m \u001b[0;34m+\u001b[0m \u001b[0mcons\u001b[0m\u001b[0;34m.\u001b[0m\u001b[0mMESSAGE_SPLIT\u001b[0m \u001b[0;34m+\u001b[0m \u001b[0mstr\u001b[0m\u001b[0;34m(\u001b[0m\u001b[0mcrc32str\u001b[0m\u001b[0;34m)\u001b[0m\u001b[0;34m)\u001b[0m\u001b[0;34m\u001b[0m\u001b[0;34m\u001b[0m\u001b[0m\n\u001b[0m\u001b[1;32m    675\u001b[0m \u001b[0;34m\u001b[0m\u001b[0m\n\u001b[1;32m    676\u001b[0m     \u001b[0;32mif\u001b[0m \u001b[0mreceive_data\u001b[0m \u001b[0;32mis\u001b[0m \u001b[0;32mNone\u001b[0m \u001b[0;32mor\u001b[0m \u001b[0mreceive_data\u001b[0m\u001b[0;34m.\u001b[0m\u001b[0mstrip\u001b[0m\u001b[0;34m(\u001b[0m\u001b[0;34m)\u001b[0m \u001b[0;34m==\u001b[0m \u001b[0;34m\"\"\u001b[0m\u001b[0;34m:\u001b[0m\u001b[0;34m\u001b[0m\u001b[0;34m\u001b[0m\u001b[0m\n",
      "\u001b[0;32m~/anaconda3/envs/ml/lib/python3.8/site-packages/baostock/util/socketutil.py\u001b[0m in \u001b[0;36msend_msg\u001b[0;34m(msg)\u001b[0m\n\u001b[1;32m     66\u001b[0m                 \u001b[0mreceive\u001b[0m \u001b[0;34m=\u001b[0m \u001b[0;34mb\"\"\u001b[0m\u001b[0;34m\u001b[0m\u001b[0;34m\u001b[0m\u001b[0m\n\u001b[1;32m     67\u001b[0m                 \u001b[0;32mwhile\u001b[0m \u001b[0;32mTrue\u001b[0m\u001b[0;34m:\u001b[0m\u001b[0;34m\u001b[0m\u001b[0;34m\u001b[0m\u001b[0m\n\u001b[0;32m---> 68\u001b[0;31m                     \u001b[0mrecv\u001b[0m \u001b[0;34m=\u001b[0m \u001b[0mdefault_socket\u001b[0m\u001b[0;34m.\u001b[0m\u001b[0mrecv\u001b[0m\u001b[0;34m(\u001b[0m\u001b[0;36m8192\u001b[0m\u001b[0;34m)\u001b[0m\u001b[0;34m\u001b[0m\u001b[0;34m\u001b[0m\u001b[0m\n\u001b[0m\u001b[1;32m     69\u001b[0m                     \u001b[0mreceive\u001b[0m \u001b[0;34m+=\u001b[0m \u001b[0mrecv\u001b[0m\u001b[0;34m\u001b[0m\u001b[0;34m\u001b[0m\u001b[0m\n\u001b[1;32m     70\u001b[0m                     \u001b[0;31m# 判断是否读取完\u001b[0m\u001b[0;34m\u001b[0m\u001b[0;34m\u001b[0m\u001b[0;34m\u001b[0m\u001b[0m\n",
      "\u001b[0;31mKeyboardInterrupt\u001b[0m: "
     ]
    }
   ],
   "source": [
    "\"\"\"\n",
    "CFOToOR\t经营活动产生的现金流量净额除以营业收入\t\n",
    "CFOToNP\t经营性现金净流量除以净利润\t\n",
    "CFOToGr\t经营性现金净流量除以营业总收入\t\n",
    "\"\"\"\n",
    "\n",
    "if not os.path.exists(\"cash_flow_2020.csv\"):\n",
    "    cash_flow_2020 = pd.DataFrame(columns=[\n",
    "        \"wind_id\",\n",
    "        \"quater\",\n",
    "        \"CFOToOR\",\n",
    "        \"CFOToNP\",\n",
    "        \"CFOToGr\"\n",
    "    ])\n",
    "\n",
    "    for comp_id in tqdm(company_id):\n",
    "        for quarter in range(1, 5):\n",
    "            res = bs.query_cash_flow_data(code=f\"{comp_id}\", year=2020, quarter=quarter).get_row_data()\n",
    "            if len(res) > 0:\n",
    "                cash_flow_2020 = cash_flow_2020.append({\n",
    "                    \"wind_id\": comp_id,\n",
    "                    \"quater\": quarter,\n",
    "                    \"CFOToOR\": res[-3],\n",
    "                    \"CFOToNP\": res[-2],\n",
    "                    \"CFOToGr\": res[-1]\n",
    "                }, ignore_index=True)\n",
    "            else:\n",
    "                print(comp_id, quarter)\n",
    "    cash_flow_2020.to_csv(\"cash_flow_2020.csv\", index=False)"
   ]
  },
  {
   "cell_type": "code",
   "execution_count": null,
   "metadata": {},
   "outputs": [],
   "source": []
  }
 ],
 "metadata": {
  "interpreter": {
   "hash": "bd68ba34b2194dc985ae9ea813664d95abe4b0a6e5847dc0ceb172885973b66c"
  },
  "kernelspec": {
   "display_name": "Python 3.8.12 64-bit ('ml': conda)",
   "language": "python",
   "name": "python3"
  },
  "language_info": {
   "codemirror_mode": {
    "name": "ipython",
    "version": 3
   },
   "file_extension": ".py",
   "mimetype": "text/x-python",
   "name": "python",
   "nbconvert_exporter": "python",
   "pygments_lexer": "ipython3",
   "version": "3.8.10"
  },
  "orig_nbformat": 4
 },
 "nbformat": 4,
 "nbformat_minor": 2
}
